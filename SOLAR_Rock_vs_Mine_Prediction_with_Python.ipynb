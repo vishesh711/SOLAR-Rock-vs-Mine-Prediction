{
  "nbformat": 4,
  "nbformat_minor": 0,
  "metadata": {
    "colab": {
      "provenance": [],
      "authorship_tag": "ABX9TyMhLf9/N5foPhzx9SJnWuxD",
      "include_colab_link": true
    },
    "kernelspec": {
      "name": "python3",
      "display_name": "Python 3"
    },
    "language_info": {
      "name": "python"
    }
  },
  "cells": [
    {
      "cell_type": "markdown",
      "metadata": {
        "id": "view-in-github",
        "colab_type": "text"
      },
      "source": [
        "<a href=\"https://colab.research.google.com/github/vishesh711/SOLAR-Rock-vs-Mine-Prediction/blob/main/SOLAR_Rock_vs_Mine_Prediction_with_Python.ipynb\" target=\"_parent\"><img src=\"https://colab.research.google.com/assets/colab-badge.svg\" alt=\"Open In Colab\"/></a>"
      ]
    },
    {
      "cell_type": "markdown",
      "source": [
        "SOLAR\n",
        "Rock vs Mine Prediction with Python\n"
      ],
      "metadata": {
        "id": "RSiHKmtJ1b8W"
      }
    },
    {
      "cell_type": "code",
      "execution_count": null,
      "metadata": {
        "id": "qO0aYnun1RY3"
      },
      "outputs": [],
      "source": []
    }
  ]
}